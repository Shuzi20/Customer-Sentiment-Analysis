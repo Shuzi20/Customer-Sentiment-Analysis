{
 "cells": [
  {
   "cell_type": "markdown",
   "id": "49737b40",
   "metadata": {},
   "source": [
    "<h2 style=\"color: #e67300;\n",
    "           background-color: #FFFDD0; /* cream color */  \n",
    "           font-family: 'Trebuchet MS', sans-serif; \n",
    "           font-weight: bold; \n",
    "           text-align: left; \n",
    "           padding: 15px;\n",
    "           border-radius: 10px;\n",
    "           font-size: 36px;\n",
    "           margin-top: 50px;\">\n",
    "Customer Sentiment Analysis - E-commerce Sector\n",
    "</h2>"
   ]
  },
  {
   "cell_type": "markdown",
   "id": "4de4d6b4",
   "metadata": {},
   "source": [
    "<div style=\"border-radius:10px; padding: 15px; background-color: #FFFDD0; font-size:130%; text-align:left\">\n",
    "<h2 align=\"left\"><font color= #e67300; font-family= 'Trebuchet MS', sans-serif;>About Company:</font></h2>\n",
    "    \n",
    "This extensive dataset, comprised of over 250,000 customer reviews, offers a detailed exploration of customer experiences on TeePublic, an online platform renowned for its diverse collection of fashion items. The dataset spans crucial information, including reviewer_id, store_location, latitude, longitude, date, month, year, title, review, and the review-label indicating a rating on a scale of 1 to 5.\n",
    "    \n",
    "**Key Features:**\n",
    "    \n",
    "-**reviewer_id**: A unique identifier for each reviewer, ensuring anonymity and privacy.\n",
    "    \n",
    "-**store_location**: Geographic information specifying the location of the TeePublic fashion store.\n",
    "    \n",
    "-**latitude**: The latitude coordinate of the store's location, providing precise geospatial data.\n",
    "    \n",
    "-**longitude**: The longitude coordinate of the store's location, offering detailed geographic insights.\n",
    "    \n",
    "-**date**: The specific date when the review was posted, enabling temporal analysis.\n",
    "    \n",
    "-**month**: The month in which the review was posted, facilitating monthly trends exploration.\n",
    "    \n",
    "-**year**: The year of the review, allowing for yearly analysis and trend identification.\n",
    "    \n",
    "-**title**: The title associated with each review, capturing succinct sentiments or key points.\n",
    "    \n",
    "-**review**: The textual content of the review, presenting detailed feedback from customers.\n",
    "    \n",
    "-**review-label**: The reviewer's rating on a scale from 1 to 5, providing a quantitative measure of satisfaction.\n",
    "    \n",
    "###**TeePublic and Fashion Store Context:**\n",
    "    \n",
    "TeePublic is a prominent online platform celebrated for its extensive collection of fashion items, including apparel, accessories, and more. This dataset, comprising reviews from the fashion store, serves as a valuable resource to understand customer sentiments and preferences within the dynamic landscape of online fashion retail."
   ]
  },
  {
   "cell_type": "code",
   "execution_count": 1,
   "id": "b2b78d56",
   "metadata": {},
   "outputs": [],
   "source": [
    "#Import Libraries\n",
    "import pandas as pd\n",
    "import numpy as np\n",
    "import seaborn as sns\n",
    "import matplotlib.pyplot as plt\n",
    "# Ignore warnings\n",
    "import warnings\n",
    "warnings.filterwarnings('ignore')"
   ]
  },
  {
   "cell_type": "code",
   "execution_count": 2,
   "id": "6315331e",
   "metadata": {},
   "outputs": [
    {
     "data": {
      "text/html": [
       "<div>\n",
       "<style scoped>\n",
       "    .dataframe tbody tr th:only-of-type {\n",
       "        vertical-align: middle;\n",
       "    }\n",
       "\n",
       "    .dataframe tbody tr th {\n",
       "        vertical-align: top;\n",
       "    }\n",
       "\n",
       "    .dataframe thead th {\n",
       "        text-align: right;\n",
       "    }\n",
       "</style>\n",
       "<table border=\"1\" class=\"dataframe\">\n",
       "  <thead>\n",
       "    <tr style=\"text-align: right;\">\n",
       "      <th></th>\n",
       "      <th>reviewer_id</th>\n",
       "      <th>store_location</th>\n",
       "      <th>latitude</th>\n",
       "      <th>longitude</th>\n",
       "      <th>date</th>\n",
       "      <th>month</th>\n",
       "      <th>year</th>\n",
       "      <th>title</th>\n",
       "      <th>review</th>\n",
       "      <th>review-label</th>\n",
       "    </tr>\n",
       "  </thead>\n",
       "  <tbody>\n",
       "    <tr>\n",
       "      <th>0</th>\n",
       "      <td>0.0</td>\n",
       "      <td>US</td>\n",
       "      <td>37.090240</td>\n",
       "      <td>-95.712891</td>\n",
       "      <td>2023</td>\n",
       "      <td>6</td>\n",
       "      <td>2015 00:00:00</td>\n",
       "      <td>Great help with lost order</td>\n",
       "      <td>I had an order that was lost in transit. When ...</td>\n",
       "      <td>5</td>\n",
       "    </tr>\n",
       "    <tr>\n",
       "      <th>1</th>\n",
       "      <td>1.0</td>\n",
       "      <td>US</td>\n",
       "      <td>37.090240</td>\n",
       "      <td>-95.712891</td>\n",
       "      <td>2023</td>\n",
       "      <td>6</td>\n",
       "      <td>2024 00:00:00</td>\n",
       "      <td>I ordered the wrong size tee and hadï¿½ï¿½ï¿½</td>\n",
       "      <td>I ordered the wrong size tee and had difficult...</td>\n",
       "      <td>5</td>\n",
       "    </tr>\n",
       "    <tr>\n",
       "      <th>2</th>\n",
       "      <td>2.0</td>\n",
       "      <td>US</td>\n",
       "      <td>37.090240</td>\n",
       "      <td>-95.712891</td>\n",
       "      <td>2023</td>\n",
       "      <td>6</td>\n",
       "      <td>2017 00:00:00</td>\n",
       "      <td>These guys offer the best customerï¿½ï¿½ï¿½</td>\n",
       "      <td>These guys offer the best customer service in ...</td>\n",
       "      <td>5</td>\n",
       "    </tr>\n",
       "    <tr>\n",
       "      <th>3</th>\n",
       "      <td>3.0</td>\n",
       "      <td>US</td>\n",
       "      <td>37.090240</td>\n",
       "      <td>-95.712891</td>\n",
       "      <td>2023</td>\n",
       "      <td>6</td>\n",
       "      <td>2024 00:00:00</td>\n",
       "      <td>Good Stuff</td>\n",
       "      <td>Looked for an obscure phrase on a shirt. Teepu...</td>\n",
       "      <td>5</td>\n",
       "    </tr>\n",
       "    <tr>\n",
       "      <th>4</th>\n",
       "      <td>4.0</td>\n",
       "      <td>CA</td>\n",
       "      <td>56.130366</td>\n",
       "      <td>-106.346771</td>\n",
       "      <td>2023</td>\n",
       "      <td>6</td>\n",
       "      <td>2023 00:00:00</td>\n",
       "      <td>My order arrived in a good timelyï¿½ï¿½ï¿½</td>\n",
       "      <td>My order arrived in a good timely fashion &amp; th...</td>\n",
       "      <td>4</td>\n",
       "    </tr>\n",
       "  </tbody>\n",
       "</table>\n",
       "</div>"
      ],
      "text/plain": [
       "   reviewer_id store_location   latitude   longitude  date  month  \\\n",
       "0          0.0             US  37.090240  -95.712891  2023      6   \n",
       "1          1.0             US  37.090240  -95.712891  2023      6   \n",
       "2          2.0             US  37.090240  -95.712891  2023      6   \n",
       "3          3.0             US  37.090240  -95.712891  2023      6   \n",
       "4          4.0             CA  56.130366 -106.346771  2023      6   \n",
       "\n",
       "            year                                          title  \\\n",
       "0  2015 00:00:00                     Great help with lost order   \n",
       "1  2024 00:00:00  I ordered the wrong size tee and hadï¿½ï¿½ï¿½   \n",
       "2  2017 00:00:00    These guys offer the best customerï¿½ï¿½ï¿½   \n",
       "3  2024 00:00:00                                     Good Stuff   \n",
       "4  2023 00:00:00     My order arrived in a good timelyï¿½ï¿½ï¿½   \n",
       "\n",
       "                                              review  review-label  \n",
       "0  I had an order that was lost in transit. When ...             5  \n",
       "1  I ordered the wrong size tee and had difficult...             5  \n",
       "2  These guys offer the best customer service in ...             5  \n",
       "3  Looked for an obscure phrase on a shirt. Teepu...             5  \n",
       "4  My order arrived in a good timely fashion & th...             4  "
      ]
     },
     "execution_count": 2,
     "metadata": {},
     "output_type": "execute_result"
    }
   ],
   "source": [
    "#Load dataset\n",
    "df = pd.read_csv(\"TeePublic_review.csv\", encoding='ISO-8859-1')\n",
    "df.head()"
   ]
  },
  {
   "cell_type": "code",
   "execution_count": 3,
   "id": "bf63f7fc",
   "metadata": {},
   "outputs": [
    {
     "name": "stdout",
     "output_type": "stream",
     "text": [
      "<class 'pandas.core.frame.DataFrame'>\n",
      "RangeIndex: 278100 entries, 0 to 278099\n",
      "Data columns (total 10 columns):\n",
      " #   Column          Non-Null Count   Dtype  \n",
      "---  ------          --------------   -----  \n",
      " 0   reviewer_id     278099 non-null  float64\n",
      " 1   store_location  278100 non-null  object \n",
      " 2   latitude        278100 non-null  float64\n",
      " 3   longitude       278100 non-null  float64\n",
      " 4   date            278100 non-null  int64  \n",
      " 5   month           278100 non-null  int64  \n",
      " 6   year            278100 non-null  object \n",
      " 7   title           278088 non-null  object \n",
      " 8   review          247597 non-null  object \n",
      " 9   review-label    278100 non-null  int64  \n",
      "dtypes: float64(3), int64(3), object(4)\n",
      "memory usage: 21.2+ MB\n"
     ]
    }
   ],
   "source": [
    "df.info()"
   ]
  },
  {
   "cell_type": "markdown",
   "id": "1f610ce7",
   "metadata": {},
   "source": [
    "This dataset contains 278,100 entries and 10 columns. Here's a summary of the columns:\n",
    "\n",
    "- **reviewer_id**: Mostly non-null (`float64` type), with one missing value.\n",
    "- **store_location**: Non-null (`object` type), likely containing store names or locations.\n",
    "- **latitude**: Non-null (`float64` type), containing geographic coordinates.\n",
    "- **longitude**: Non-null (`float64` type), containing geographic coordinates.\n",
    "- **date**: Non-null (`int64` type), representing the day of the review.\n",
    "- **month**: Non-null (`int64` type), representing the month of the review.\n",
    "- **year**: Non-null (`object` type), but stored as a string, might need conversion to `int64`.\n",
    "- **title**: Mostly non-null (`object` type), but some missing values.\n",
    "- **review**: Contains missing values (`object` type), likely customer review content.\n",
    "- **review-label**: Non-null (`int64` type), likely a categorical label for sentiment or review quality."
   ]
  },
  {
   "cell_type": "code",
   "execution_count": 4,
   "id": "a36047eb",
   "metadata": {},
   "outputs": [
    {
     "data": {
      "text/html": [
       "<div>\n",
       "<style scoped>\n",
       "    .dataframe tbody tr th:only-of-type {\n",
       "        vertical-align: middle;\n",
       "    }\n",
       "\n",
       "    .dataframe tbody tr th {\n",
       "        vertical-align: top;\n",
       "    }\n",
       "\n",
       "    .dataframe thead th {\n",
       "        text-align: right;\n",
       "    }\n",
       "</style>\n",
       "<table border=\"1\" class=\"dataframe\">\n",
       "  <thead>\n",
       "    <tr style=\"text-align: right;\">\n",
       "      <th></th>\n",
       "      <th>reviewer_id</th>\n",
       "      <th>store_location</th>\n",
       "      <th>latitude</th>\n",
       "      <th>longitude</th>\n",
       "      <th>date</th>\n",
       "      <th>month</th>\n",
       "      <th>year</th>\n",
       "      <th>title</th>\n",
       "      <th>review</th>\n",
       "      <th>review-label</th>\n",
       "    </tr>\n",
       "  </thead>\n",
       "  <tbody>\n",
       "    <tr>\n",
       "      <th>278095</th>\n",
       "      <td>278095.0</td>\n",
       "      <td>US</td>\n",
       "      <td>37.09024</td>\n",
       "      <td>-95.712891</td>\n",
       "      <td>2018</td>\n",
       "      <td>4</td>\n",
       "      <td>2027 00:00:00</td>\n",
       "      <td>Highly recommend!</td>\n",
       "      <td>Delivery is quick, arrives when promised. Shir...</td>\n",
       "      <td>5</td>\n",
       "    </tr>\n",
       "    <tr>\n",
       "      <th>278096</th>\n",
       "      <td>278096.0</td>\n",
       "      <td>HR</td>\n",
       "      <td>45.10000</td>\n",
       "      <td>15.200000</td>\n",
       "      <td>2018</td>\n",
       "      <td>4</td>\n",
       "      <td>2027 00:00:00</td>\n",
       "      <td>Great quality</td>\n",
       "      <td>Great quality, fast delivery, would recommend!</td>\n",
       "      <td>5</td>\n",
       "    </tr>\n",
       "    <tr>\n",
       "      <th>278097</th>\n",
       "      <td>278097.0</td>\n",
       "      <td>US</td>\n",
       "      <td>37.09024</td>\n",
       "      <td>-95.712891</td>\n",
       "      <td>2018</td>\n",
       "      <td>4</td>\n",
       "      <td>2027 00:00:00</td>\n",
       "      <td>Dudes rock.</td>\n",
       "      <td>Dudes rock. Seriously.</td>\n",
       "      <td>5</td>\n",
       "    </tr>\n",
       "    <tr>\n",
       "      <th>278098</th>\n",
       "      <td>278098.0</td>\n",
       "      <td>US</td>\n",
       "      <td>37.09024</td>\n",
       "      <td>-95.712891</td>\n",
       "      <td>2018</td>\n",
       "      <td>4</td>\n",
       "      <td>2027 00:00:00</td>\n",
       "      <td>Shipping was fast the T-shirt was justï¿½ï¿½ï¿½</td>\n",
       "      <td>Shipping was fast the T-shirt was just right g...</td>\n",
       "      <td>5</td>\n",
       "    </tr>\n",
       "    <tr>\n",
       "      <th>278099</th>\n",
       "      <td>NaN</td>\n",
       "      <td>US</td>\n",
       "      <td>37.09024</td>\n",
       "      <td>-95.712891</td>\n",
       "      <td>2018</td>\n",
       "      <td>4</td>\n",
       "      <td>2027 00:00:00</td>\n",
       "      <td>Not great quality</td>\n",
       "      <td>Print of t shirt was blurry and appeared faded...</td>\n",
       "      <td>2</td>\n",
       "    </tr>\n",
       "  </tbody>\n",
       "</table>\n",
       "</div>"
      ],
      "text/plain": [
       "        reviewer_id store_location  latitude  longitude  date  month  \\\n",
       "278095     278095.0             US  37.09024 -95.712891  2018      4   \n",
       "278096     278096.0             HR  45.10000  15.200000  2018      4   \n",
       "278097     278097.0             US  37.09024 -95.712891  2018      4   \n",
       "278098     278098.0             US  37.09024 -95.712891  2018      4   \n",
       "278099          NaN             US  37.09024 -95.712891  2018      4   \n",
       "\n",
       "                 year                                            title  \\\n",
       "278095  2027 00:00:00                                Highly recommend!   \n",
       "278096  2027 00:00:00                                    Great quality   \n",
       "278097  2027 00:00:00                                      Dudes rock.   \n",
       "278098  2027 00:00:00  Shipping was fast the T-shirt was justï¿½ï¿½ï¿½   \n",
       "278099  2027 00:00:00                                Not great quality   \n",
       "\n",
       "                                                   review  review-label  \n",
       "278095  Delivery is quick, arrives when promised. Shir...             5  \n",
       "278096     Great quality, fast delivery, would recommend!             5  \n",
       "278097                             Dudes rock. Seriously.             5  \n",
       "278098  Shipping was fast the T-shirt was just right g...             5  \n",
       "278099  Print of t shirt was blurry and appeared faded...             2  "
      ]
     },
     "execution_count": 4,
     "metadata": {},
     "output_type": "execute_result"
    }
   ],
   "source": [
    "df.tail()"
   ]
  },
  {
   "cell_type": "markdown",
   "id": "406e0cf8",
   "metadata": {},
   "source": [
    "<h2 align=\"left\"><font color= #e67300; font-family= 'Trebuchet MS', sans-serif;>Data Cleaning and Transformation:</font></h2> "
   ]
  },
  {
   "cell_type": "code",
   "execution_count": 5,
   "id": "da37cfe7",
   "metadata": {},
   "outputs": [
    {
     "data": {
      "text/html": [
       "<div>\n",
       "<style scoped>\n",
       "    .dataframe tbody tr th:only-of-type {\n",
       "        vertical-align: middle;\n",
       "    }\n",
       "\n",
       "    .dataframe tbody tr th {\n",
       "        vertical-align: top;\n",
       "    }\n",
       "\n",
       "    .dataframe thead th {\n",
       "        text-align: right;\n",
       "    }\n",
       "</style>\n",
       "<table border=\"1\" class=\"dataframe\">\n",
       "  <thead>\n",
       "    <tr style=\"text-align: right;\">\n",
       "      <th></th>\n",
       "      <th>reviewer_id</th>\n",
       "      <th>store_location</th>\n",
       "      <th>latitude</th>\n",
       "      <th>longitude</th>\n",
       "      <th>date</th>\n",
       "      <th>month</th>\n",
       "      <th>year</th>\n",
       "      <th>title</th>\n",
       "      <th>review</th>\n",
       "      <th>review-label</th>\n",
       "    </tr>\n",
       "  </thead>\n",
       "  <tbody>\n",
       "  </tbody>\n",
       "</table>\n",
       "</div>"
      ],
      "text/plain": [
       "Empty DataFrame\n",
       "Columns: [reviewer_id, store_location, latitude, longitude, date, month, year, title, review, review-label]\n",
       "Index: []"
      ]
     },
     "execution_count": 5,
     "metadata": {},
     "output_type": "execute_result"
    }
   ],
   "source": [
    "# Finding duplicate rows (keeping all instances)\n",
    "duplicate_rows = df[df.duplicated(keep=False)]\n",
    "\n",
    "# Sorting the data by certain columns to see the duplicate rows next to each other\n",
    "duplicate_rows_sorted = duplicate_rows.sort_values(by=['reviewer_id','store_location','latitude','longitude','date','month','year','title','review','review-label'])\n",
    "\n",
    "# Displaying the first 10 records\n",
    "duplicate_rows_sorted.head(10)"
   ]
  },
  {
   "cell_type": "code",
   "execution_count": 6,
   "id": "5bc63fa9",
   "metadata": {},
   "outputs": [
    {
     "name": "stdout",
     "output_type": "stream",
     "text": [
      "reviewer_id           1\n",
      "store_location        0\n",
      "latitude              0\n",
      "longitude             0\n",
      "date                  0\n",
      "month                 0\n",
      "year                  0\n",
      "title                12\n",
      "review            30503\n",
      "review-label          0\n",
      "dtype: int64\n"
     ]
    }
   ],
   "source": [
    "# Check for missing values\n",
    "print(df.isnull().sum())"
   ]
  },
  {
   "cell_type": "code",
   "execution_count": 7,
   "id": "ed1cd1e0",
   "metadata": {},
   "outputs": [
    {
     "data": {
      "text/plain": [
       "reviewer_id           1\n",
       "store_location        0\n",
       "latitude              0\n",
       "longitude             0\n",
       "date                  0\n",
       "month                 0\n",
       "year                  0\n",
       "title                 0\n",
       "review            30503\n",
       "review-label          0\n",
       "dtype: int64"
      ]
     },
     "execution_count": 7,
     "metadata": {},
     "output_type": "execute_result"
    }
   ],
   "source": [
    "# Fill missing values in 'title' with a placeholder\n",
    "df['title'] = df['title'].fillna('No Title')\n",
    "df.isnull().sum()"
   ]
  },
  {
   "cell_type": "code",
   "execution_count": 8,
   "id": "1fdbd7e5",
   "metadata": {},
   "outputs": [
    {
     "name": "stdout",
     "output_type": "stream",
     "text": [
      "                 year\n",
      "0       2015 00:00:00\n",
      "1       2024 00:00:00\n",
      "2       2017 00:00:00\n",
      "3       2024 00:00:00\n",
      "4       2023 00:00:00\n",
      "...               ...\n",
      "278095  2027 00:00:00\n",
      "278096  2027 00:00:00\n",
      "278097  2027 00:00:00\n",
      "278098  2027 00:00:00\n",
      "278099  2027 00:00:00\n",
      "\n",
      "[278100 rows x 1 columns]\n"
     ]
    }
   ],
   "source": [
    "# Check for non-integer values in the 'year' column\n",
    "invalid_years = df[~df['year'].str.match(r'^\\d{4}$', na=False)]\n",
    "print(invalid_years[['year']])"
   ]
  },
  {
   "cell_type": "code",
   "execution_count": 9,
   "id": "e3c3a6e2",
   "metadata": {},
   "outputs": [],
   "source": [
    "# Fill missing reviews with a placeholder\n",
    "df['review'] = df['review'].fillna('No Review')\n",
    "\n",
    "# Clean 'year' column\n",
    "# Extract the year from date-time strings\n",
    "df['year'] = df['year'].astype(str).str.split(' ', expand=True)[0]  # Split on space and take the first part (year)\n",
    "df['year'] = pd.to_numeric(df['year'], errors='coerce').astype('Int64')  # Convert to numeric, coerce errors, convert to integer\n",
    "\n",
    "# Handle remaining missing values in 'year' if necessary\n",
    "df['year'] = df['year'].fillna(df['year'].mode()[0])  # Fill missing years with the most common year\n",
    "\n",
    "# Convert 'review-label' to integer\n",
    "df['review-label'] = pd.to_numeric(df['review-label'], errors='coerce').astype('Int64')\n",
    "\n",
    "# Standardize text data\n",
    "df['title'] = df['title'].str.lower().str.strip()  # Convert title to lowercase and strip whitespace\n",
    "df['review'] = df['review'].str.lower().str.strip()  # Convert review to lowercase and strip whitespace\n",
    "\n",
    "# Remove punctuation from review text\n",
    "df['review'] = df['review'].str.replace('[^\\w\\s]', '', regex=True)\n",
    "\n",
    "# Verify data consistency\n",
    "# Check for valid review labels (1 to 5)\n",
    "valid_labels = [1, 2, 3, 4, 5]\n",
    "df = df[df['review-label'].isin(valid_labels)]\n",
    "\n",
    "# Optionally reset the index\n",
    "df = df.reset_index(drop=True)"
   ]
  },
  {
   "cell_type": "code",
   "execution_count": 10,
   "id": "9bae5c70",
   "metadata": {},
   "outputs": [
    {
     "name": "stdout",
     "output_type": "stream",
     "text": [
      "reviewer_id       1\n",
      "store_location    0\n",
      "latitude          0\n",
      "longitude         0\n",
      "date              0\n",
      "month             0\n",
      "year              0\n",
      "title             0\n",
      "review            0\n",
      "review-label      0\n",
      "dtype: int64\n"
     ]
    }
   ],
   "source": [
    "print(df.isnull().sum())"
   ]
  },
  {
   "cell_type": "code",
   "execution_count": 11,
   "id": "0d47287d",
   "metadata": {},
   "outputs": [
    {
     "data": {
      "text/html": [
       "<div>\n",
       "<style scoped>\n",
       "    .dataframe tbody tr th:only-of-type {\n",
       "        vertical-align: middle;\n",
       "    }\n",
       "\n",
       "    .dataframe tbody tr th {\n",
       "        vertical-align: top;\n",
       "    }\n",
       "\n",
       "    .dataframe thead th {\n",
       "        text-align: right;\n",
       "    }\n",
       "</style>\n",
       "<table border=\"1\" class=\"dataframe\">\n",
       "  <thead>\n",
       "    <tr style=\"text-align: right;\">\n",
       "      <th></th>\n",
       "      <th>reviewer_id</th>\n",
       "      <th>store_location</th>\n",
       "      <th>latitude</th>\n",
       "      <th>longitude</th>\n",
       "      <th>date</th>\n",
       "      <th>month</th>\n",
       "      <th>year</th>\n",
       "      <th>title</th>\n",
       "      <th>review</th>\n",
       "      <th>review-label</th>\n",
       "    </tr>\n",
       "  </thead>\n",
       "  <tbody>\n",
       "    <tr>\n",
       "      <th>278099</th>\n",
       "      <td>NaN</td>\n",
       "      <td>US</td>\n",
       "      <td>37.09024</td>\n",
       "      <td>-95.712891</td>\n",
       "      <td>2018</td>\n",
       "      <td>4</td>\n",
       "      <td>2027</td>\n",
       "      <td>not great quality</td>\n",
       "      <td>print of t shirt was blurry and appeared faded...</td>\n",
       "      <td>2</td>\n",
       "    </tr>\n",
       "  </tbody>\n",
       "</table>\n",
       "</div>"
      ],
      "text/plain": [
       "        reviewer_id store_location  latitude  longitude  date  month  year  \\\n",
       "278099          NaN             US  37.09024 -95.712891  2018      4  2027   \n",
       "\n",
       "                    title                                             review  \\\n",
       "278099  not great quality  print of t shirt was blurry and appeared faded...   \n",
       "\n",
       "        review-label  \n",
       "278099             2  "
      ]
     },
     "execution_count": 11,
     "metadata": {},
     "output_type": "execute_result"
    }
   ],
   "source": [
    "# Investigate rows with missing 'reviewer_id'\n",
    "missing_reviewer_id = df[df['reviewer_id'].isna()]\n",
    "missing_reviewer_id"
   ]
  },
  {
   "cell_type": "code",
   "execution_count": 12,
   "id": "788469ed",
   "metadata": {},
   "outputs": [
    {
     "name": "stdout",
     "output_type": "stream",
     "text": [
      "Rows with missing 'reviewer_id' have been removed. Cleaned dataset saved.\n"
     ]
    }
   ],
   "source": [
    "# Remove rows where 'reviewer_id' is missing\n",
    "df = df.dropna(subset=['reviewer_id'])\n",
    "# Save the cleaned dataset\n",
    "df.to_csv('cleaned_dataset.csv', index=False)\n",
    "\n",
    "print(\"Rows with missing 'reviewer_id' have been removed. Cleaned dataset saved.\")"
   ]
  },
  {
   "cell_type": "code",
   "execution_count": 13,
   "id": "2765044a",
   "metadata": {},
   "outputs": [
    {
     "name": "stdout",
     "output_type": "stream",
     "text": [
      "reviewer_id       0\n",
      "store_location    0\n",
      "latitude          0\n",
      "longitude         0\n",
      "date              0\n",
      "month             0\n",
      "year              0\n",
      "title             0\n",
      "review            0\n",
      "review-label      0\n",
      "dtype: int64\n"
     ]
    }
   ],
   "source": [
    "print(df.isnull().sum())"
   ]
  },
  {
   "cell_type": "code",
   "execution_count": 14,
   "id": "a9ca1e3f",
   "metadata": {},
   "outputs": [
    {
     "name": "stdout",
     "output_type": "stream",
     "text": [
      "<class 'pandas.core.frame.DataFrame'>\n",
      "Index: 278099 entries, 0 to 278098\n",
      "Data columns (total 10 columns):\n",
      " #   Column          Non-Null Count   Dtype  \n",
      "---  ------          --------------   -----  \n",
      " 0   reviewer_id     278099 non-null  float64\n",
      " 1   store_location  278099 non-null  object \n",
      " 2   latitude        278099 non-null  float64\n",
      " 3   longitude       278099 non-null  float64\n",
      " 4   date            278099 non-null  int64  \n",
      " 5   month           278099 non-null  int64  \n",
      " 6   year            278099 non-null  Int64  \n",
      " 7   title           278099 non-null  object \n",
      " 8   review          278099 non-null  object \n",
      " 9   review-label    278099 non-null  Int64  \n",
      "dtypes: Int64(2), float64(3), int64(2), object(3)\n",
      "memory usage: 23.9+ MB\n"
     ]
    }
   ],
   "source": [
    "df.info()"
   ]
  },
  {
   "cell_type": "code",
   "execution_count": 15,
   "id": "0f2eccc0",
   "metadata": {},
   "outputs": [
    {
     "name": "stdout",
     "output_type": "stream",
     "text": [
      "sentiment_label\n",
      "positive    210946\n",
      "neutral      43398\n",
      "negative     23755\n",
      "Name: count, dtype: int64\n"
     ]
    }
   ],
   "source": [
    "from textblob import TextBlob\n",
    "\n",
    "# Function to calculate sentiment polarity\n",
    "def get_sentiment(text):\n",
    "    analysis = TextBlob(text)\n",
    "    return analysis.sentiment.polarity\n",
    "\n",
    "# Apply the function to the 'review' column\n",
    "df['sentiment_polarity'] = df['review'].apply(get_sentiment)\n",
    "\n",
    "# Classify sentiment based on polarity\n",
    "df['sentiment_label'] = df['sentiment_polarity'].apply(lambda x: 'positive' if x > 0 else ('negative' if x < 0 else 'neutral'))\n",
    "\n",
    "# Check sentiment distribution\n",
    "print(df['sentiment_label'].value_counts())"
   ]
  },
  {
   "cell_type": "code",
   "execution_count": 16,
   "id": "055014b3",
   "metadata": {},
   "outputs": [
    {
     "name": "stderr",
     "output_type": "stream",
     "text": [
      "[nltk_data] Downloading package punkt to\n",
      "[nltk_data]     C:\\Users\\91932\\AppData\\Roaming\\nltk_data...\n",
      "[nltk_data]   Package punkt is already up-to-date!\n",
      "[nltk_data] Downloading package stopwords to\n",
      "[nltk_data]     C:\\Users\\91932\\AppData\\Roaming\\nltk_data...\n",
      "[nltk_data]   Package stopwords is already up-to-date!\n",
      "[nltk_data] Downloading package wordnet to\n",
      "[nltk_data]     C:\\Users\\91932\\AppData\\Roaming\\nltk_data...\n",
      "[nltk_data]   Package wordnet is already up-to-date!\n"
     ]
    },
    {
     "data": {
      "text/plain": [
       "True"
      ]
     },
     "execution_count": 16,
     "metadata": {},
     "output_type": "execute_result"
    }
   ],
   "source": [
    "import nltk\n",
    "from nltk.corpus import stopwords\n",
    "from nltk.tokenize import word_tokenize\n",
    "from nltk.stem import WordNetLemmatizer\n",
    "import re\n",
    "\n",
    "nltk.download('punkt')\n",
    "nltk.download('stopwords')\n",
    "nltk.download('wordnet')"
   ]
  },
  {
   "cell_type": "code",
   "execution_count": 17,
   "id": "579c7210",
   "metadata": {},
   "outputs": [],
   "source": [
    "# Preprocessing function to clean text\n",
    "def preprocess_text(text):\n",
    "    text = re.sub(r'[^\\w\\s]', '', text)  # Remove punctuation\n",
    "    tokens = word_tokenize(text.lower())  # Tokenize and convert to lowercase\n",
    "    tokens = [word for word in tokens if word not in stopwords.words('english')]  # Remove stopwords\n",
    "    lemmatizer = WordNetLemmatizer()  # Lemmatizer\n",
    "    tokens = [lemmatizer.lemmatize(word) for word in tokens]  # Lemmatize words\n",
    "    return ' '.join(tokens)\n",
    "\n",
    "# Apply preprocessing to the 'review' column\n",
    "df['cleaned_review'] = df['review'].apply(preprocess_text)"
   ]
  },
  {
   "cell_type": "code",
   "execution_count": 18,
   "id": "44acf278",
   "metadata": {},
   "outputs": [
    {
     "name": "stdout",
     "output_type": "stream",
     "text": [
      "                                           title  \\\n",
      "0                     great help with lost order   \n",
      "1  i ordered the wrong size tee and hadï¿½ï¿½ï¿½   \n",
      "2    these guys offer the best customerï¿½ï¿½ï¿½   \n",
      "3                                     good stuff   \n",
      "4     my order arrived in a good timelyï¿½ï¿½ï¿½   \n",
      "5                               always top notch   \n",
      "6                                  recent review   \n",
      "7                            great communication   \n",
      "8                                        awesome   \n",
      "9     wonderful quality t-shirts for anï¿½ï¿½ï¿½   \n",
      "\n",
      "                          cleaned_title  \n",
      "0            great help with lost order  \n",
      "1  i ordered the wrong size tee and had  \n",
      "2    these guys offer the best customer  \n",
      "3                            good stuff  \n",
      "4     my order arrived in a good timely  \n",
      "5                      always top notch  \n",
      "6                         recent review  \n",
      "7                   great communication  \n",
      "8                               awesome  \n",
      "9      wonderful quality tshirts for an  \n"
     ]
    }
   ],
   "source": [
    "# Function to clean text data\n",
    "def clean_text(text):\n",
    "    # Remove unwanted characters or encoding errors\n",
    "    text = re.sub(r'[^A-Za-z0-9\\s]+', '', text)  # Remove non-ASCII and special characters\n",
    "    text = re.sub(r'\\s+', ' ', text)  # Remove extra spaces\n",
    "    text = text.strip()  # Remove leading and trailing whitespace\n",
    "    return text\n",
    "\n",
    "# Apply the cleaning function to the 'title' column\n",
    "df['cleaned_title'] = df['title'].apply(clean_text)\n",
    "\n",
    "# Display a few cleaned titles to verify the changes\n",
    "print(df[['title', 'cleaned_title']].head(10))"
   ]
  },
  {
   "cell_type": "code",
   "execution_count": 19,
   "id": "87184c3d",
   "metadata": {},
   "outputs": [
    {
     "name": "stdout",
     "output_type": "stream",
     "text": [
      "<class 'pandas.core.frame.DataFrame'>\n",
      "Index: 278099 entries, 0 to 278098\n",
      "Data columns (total 14 columns):\n",
      " #   Column              Non-Null Count   Dtype  \n",
      "---  ------              --------------   -----  \n",
      " 0   reviewer_id         278099 non-null  float64\n",
      " 1   store_location      278099 non-null  object \n",
      " 2   latitude            278099 non-null  float64\n",
      " 3   longitude           278099 non-null  float64\n",
      " 4   date                278099 non-null  int64  \n",
      " 5   month               278099 non-null  int64  \n",
      " 6   year                278099 non-null  Int64  \n",
      " 7   title               278099 non-null  object \n",
      " 8   review              278099 non-null  object \n",
      " 9   review-label        278099 non-null  Int64  \n",
      " 10  sentiment_polarity  278099 non-null  float64\n",
      " 11  sentiment_label     278099 non-null  object \n",
      " 12  cleaned_review      278099 non-null  object \n",
      " 13  cleaned_title       278099 non-null  object \n",
      "dtypes: Int64(2), float64(4), int64(2), object(6)\n",
      "memory usage: 32.4+ MB\n"
     ]
    }
   ],
   "source": [
    "df.info()"
   ]
  },
  {
   "cell_type": "markdown",
   "id": "2291dd29",
   "metadata": {},
   "source": [
    "<h2 align=\"left\"><font color= #e67300; font-family= 'Trebuchet MS', sans-serif;>Data Exploration and Visualization:</font></h2> "
   ]
  },
  {
   "cell_type": "code",
   "execution_count": 20,
   "id": "5b696151",
   "metadata": {},
   "outputs": [
    {
     "data": {
      "image/png": "[encoded data removed]",
      "text/plain": [
       "<Figure size 1000x600 with 1 Axes>"
      ]
     },
     "metadata": {},
     "output_type": "display_data"
    },
    {
     "data": {
      "image/png": "[encoded data removed]",
      "text/plain": [
       "<Figure size 1000x600 with 1 Axes>"
      ]
     },
     "metadata": {},
     "output_type": "display_data"
    }
   ],
   "source": [
    "# Plot the distribution of sentiment labels\n",
    "plt.figure(figsize=(10, 6))\n",
    "sns.countplot(x='sentiment_label', data=df, palette='viridis')\n",
    "plt.title('Distribution of Sentiment Labels')\n",
    "plt.xlabel('Sentiment Label')\n",
    "plt.ylabel('Count')\n",
    "plt.show()\n",
    "\n",
    "# Analyze the relationship between sentiment labels and review ratings\n",
    "plt.figure(figsize=(10, 6))\n",
    "sns.boxplot(x='review-label', y='sentiment_polarity', data=df, palette='viridis')\n",
    "plt.title('Sentiment Polarity by Review Ratings')\n",
    "plt.xlabel('Review Rating')\n",
    "plt.ylabel('Sentiment Polarity')\n",
    "plt.show()"
   ]
  },
  {
   "cell_type": "markdown",
   "id": "d7d4ee69",
   "metadata": {},
   "source": [
    "Let's analyze the two graphs generated from the initial sentiment analysis using TextBlob:\n",
    "\n",
    "### Observations from the Graphs:\n",
    "\n",
    "1. **Distribution of Sentiment Labels**:\n",
    "   - The **count plot** of sentiment labels (`positive`, `neutral`, `negative`) shows the overall distribution of customer sentiment in the dataset.\n",
    "   - **Observation**: If the majority of reviews are classified as `positive` or `neutral` and only a small portion as `negative`, it could indicate a generally favorable sentiment toward TeePublic's products and services.\n",
    "   - However, if the negative sentiment is substantial, it could suggest areas that require improvement.\n",
    "\n",
    "2. **Sentiment Polarity by Review Ratings**:\n",
    "   - The **boxplot** of sentiment polarity against `review-label` gives insight into how the numerical review ratings (1 to 5) correlate with sentiment polarity calculated by TextBlob.\n",
    "   - **Observation**:\n",
    "     - If the polarity for ratings 1 or 2 (low ratings) shows a negative sentiment and 4 or 5 (high ratings) shows a positive sentiment, it suggests that the sentiment analysis using TextBlob is consistent with the review ratings.\n",
    "     - If there are many `neutral` sentiment classifications for both low and high ratings, it might suggest that TextBlob's sentiment analysis is not capturing the nuances well, especially in mixed or sarcastic reviews.\n",
    "\n"
   ]
  },
  {
   "cell_type": "markdown",
   "id": "7a707bd3",
   "metadata": {},
   "source": [
    "<h2 align=\"left\"><font color= #e67300; font-family= 'Trebuchet MS', sans-serif;>VADER Sentiment Analysis</font></h2> "
   ]
  },
  {
   "cell_type": "code",
   "execution_count": 21,
   "id": "e33b0a17",
   "metadata": {},
   "outputs": [
    {
     "name": "stderr",
     "output_type": "stream",
     "text": [
      "[nltk_data] Downloading package vader_lexicon to\n",
      "[nltk_data]     C:\\Users\\91932\\AppData\\Roaming\\nltk_data...\n",
      "[nltk_data]   Package vader_lexicon is already up-to-date!\n"
     ]
    },
    {
     "name": "stdout",
     "output_type": "stream",
     "text": [
      "vader_sentiment_label\n",
      "positive    208843\n",
      "neutral      50785\n",
      "negative     18471\n",
      "Name: count, dtype: int64\n"
     ]
    }
   ],
   "source": [
    "from nltk.sentiment.vader import SentimentIntensityAnalyzer\n",
    "import nltk\n",
    "\n",
    "# Download VADER lexicon\n",
    "nltk.download('vader_lexicon')\n",
    "\n",
    "# Initialize VADER sentiment analyzer\n",
    "vader_analyzer = SentimentIntensityAnalyzer()\n",
    "\n",
    "# Function to get sentiment scores\n",
    "def vader_sentiment_scores(text):\n",
    "    score = vader_analyzer.polarity_scores(text)\n",
    "    return score['compound']\n",
    "\n",
    "# Apply the VADER function to the 'cleaned_review' column\n",
    "df['vader_sentiment_score'] = df['cleaned_review'].apply(vader_sentiment_scores)\n",
    "\n",
    "# Classify VADER sentiment based on the compound score\n",
    "df['vader_sentiment_label'] = df['vader_sentiment_score'].apply(\n",
    "    lambda x: 'positive' if x > 0.05 else ('negative' if x < -0.05 else 'neutral')\n",
    ")\n",
    "\n",
    "# Check the distribution of VADER sentiment labels\n",
    "print(df['vader_sentiment_label'].value_counts())"
   ]
  },
  {
   "cell_type": "code",
   "execution_count": 22,
   "id": "d8bde6bc",
   "metadata": {},
   "outputs": [
    {
     "data": {
      "image/png": "[encoded data removed]",
      "text/plain": [
       "<Figure size 640x480 with 1 Axes>"
      ]
     },
     "metadata": {},
     "output_type": "display_data"
    },
    {
     "data": {
      "image/png": "[encoded data removed]",
      "text/plain": [
       "<Figure size 640x480 with 1 Axes>"
      ]
     },
     "metadata": {},
     "output_type": "display_data"
    }
   ],
   "source": [
    "# Visualize VADER sentiment distribution\n",
    "sns.countplot(data=df, x='vader_sentiment_label', palette='viridis')\n",
    "plt.title('Distribution of VADER Sentiment Labels')\n",
    "plt.xlabel('VADER Sentiment Label')\n",
    "plt.ylabel('Count')\n",
    "plt.show()\n",
    "\n",
    "# Boxplot of VADER Sentiment Scores vs. Review Ratings\n",
    "sns.boxplot(data=df, x='review-label', y='vader_sentiment_score', palette='viridis')\n",
    "plt.title('VADER Sentiment Score by Review Ratings')\n",
    "plt.xlabel('Review Rating')\n",
    "plt.ylabel('VADER Sentiment Score')\n",
    "plt.show()"
   ]
  },
  {
   "cell_type": "markdown",
   "id": "78865805",
   "metadata": {},
   "source": [
    "The two graphs you’ve provided give an analysis of sentiment labels and scores derived from VADER sentiment analysis, segmented by review ratings.\n",
    "\n",
    "### First Graph: **Distribution of VADER Sentiment Labels**\n",
    "- **X-axis (VADER Sentiment Label):** The different sentiment categories detected by VADER: \"positive,\" \"negative,\" and \"neutral.\"\n",
    "- **Y-axis (Count):** The number of reviews classified under each sentiment category.\n",
    "- **Interpretation:** \n",
    "  - A majority of the reviews have been classified as **positive**, with the count exceeding 200,000.\n",
    "  - **Neutral** reviews make up the second-largest category, with a count close to 75,000.\n",
    "  - The smallest group is **negative** reviews, accounting for a much smaller portion.\n",
    "  - This indicates a predominantly positive sentiment in the dataset, with relatively few negative reviews.\n",
    "\n",
    "### Second Graph: **VADER Sentiment Score by Review Ratings (Box Plot)**\n",
    "- **X-axis (Review Rating):** The numerical rating of reviews (1 to 5 stars).\n",
    "- **Y-axis (VADER Sentiment Score):** Sentiment scores provided by VADER, which range from -1 (most negative) to 1 (most positive).\n",
    "- **Interpretation:**\n",
    "  - **Box plot structure:** \n",
    "    - The central line in each box represents the **median** sentiment score for each rating.\n",
    "    - The boxes show the **interquartile range** (IQR) of the data (from the 25th percentile to the 75th percentile).\n",
    "    - The whiskers extend to the range of sentiment scores, and outliers (extreme values) are marked as individual points.\n",
    "  - **Review Rating 1:** The sentiment scores here are mostly negative, with the median score close to 0 and the lower whisker extending into negative sentiment, meaning most 1-star reviews express negative sentiments.\n",
    "  - **Review Rating 2:** The median sentiment score is close to 0, indicating a mix of neutral and slightly negative sentiments.\n",
    "  - **Review Rating 3:** The median score is positive, with scores generally leaning towards the positive side but less so than the higher-rated reviews.\n",
    "  - **Review Rating 4 and 5:** Both exhibit highly positive sentiment scores, with medians and quartiles closer to 1, showing that higher ratings strongly correlate with positive sentiment scores.\n",
    "  - **Notable Outliers:** For higher ratings (4 and 5), there are some extreme negative sentiment outliers, meaning a few highly rated reviews still contain negative sentiment, despite the overall positive tone.\n",
    "\n",
    "### Overall Takeaway:\n",
    "- The first graph shows that most reviews are classified as positive.\n",
    "- The second graph reveals that sentiment scores correlate with review ratings: higher ratings tend to have more positive sentiment scores, while lower ratings tend to have more negative or neutral sentiment scores."
   ]
  },
  {
   "cell_type": "markdown",
   "id": "4ee7fe3d",
   "metadata": {},
   "source": [
    "<h2 align=\"left\"><font color= #e67300; font-family= 'Trebuchet MS', sans-serif;>Feature Extraction Using TF-IDF</font></h2> "
   ]
  },
  {
   "cell_type": "code",
   "execution_count": 23,
   "id": "d4b5fd1f",
   "metadata": {},
   "outputs": [],
   "source": [
    "from sklearn.feature_extraction.text import TfidfVectorizer\n",
    "\n",
    "# Initialize TF-IDF Vectorizer\n",
    "tfidf_vectorizer = TfidfVectorizer(max_features=10000, ngram_range=(1, 2), stop_words='english')\n",
    "\n",
    "# Fit and transform the 'review' column to create the TF-IDF matrix\n",
    "X = tfidf_vectorizer.fit_transform(df['review'].astype(str))\n",
    "\n",
    "# Extract the sentiment label as the target variable\n",
    "y = df['vader_sentiment_label'].map({'positive': 2, 'neutral': 1, 'negative': 0})"
   ]
  },
  {
   "cell_type": "markdown",
   "id": "ead51cf6",
   "metadata": {},
   "source": [
    "<h2 align=\"left\"><font color= #e67300; font-family= 'Trebuchet MS', sans-serif;>Train Machine Learning Models</font></h2> "
   ]
  },
  {
   "cell_type": "code",
   "execution_count": 24,
   "id": "b26e87bf",
   "metadata": {},
   "outputs": [
    {
     "name": "stdout",
     "output_type": "stream",
     "text": [
      "Logistic Regression Classification Report:\n",
      "               precision    recall  f1-score   support\n",
      "\n",
      "           0       0.86      0.68      0.76      3679\n",
      "           1       0.94      0.96      0.95     10073\n",
      "           2       0.97      0.98      0.98     41868\n",
      "\n",
      "    accuracy                           0.96     55620\n",
      "   macro avg       0.92      0.87      0.89     55620\n",
      "weighted avg       0.96      0.96      0.96     55620\n",
      "\n",
      "Random Forest Classification Report:\n",
      "               precision    recall  f1-score   support\n",
      "\n",
      "           0       0.88      0.37      0.52      3679\n",
      "           1       0.95      0.82      0.88     10073\n",
      "           2       0.91      0.99      0.95     41868\n",
      "\n",
      "    accuracy                           0.92     55620\n",
      "   macro avg       0.91      0.73      0.78     55620\n",
      "weighted avg       0.92      0.92      0.91     55620\n",
      "\n",
      "XGBoost Classification Report:\n",
      "               precision    recall  f1-score   support\n",
      "\n",
      "           0       0.83      0.59      0.69      3679\n",
      "           1       0.88      0.95      0.92     10073\n",
      "           2       0.97      0.97      0.97     41868\n",
      "\n",
      "    accuracy                           0.94     55620\n",
      "   macro avg       0.89      0.84      0.86     55620\n",
      "weighted avg       0.94      0.94      0.94     55620\n",
      "\n"
     ]
    }
   ],
   "source": [
    "from sklearn.model_selection import train_test_split\n",
    "from sklearn.linear_model import LogisticRegression\n",
    "from sklearn.ensemble import RandomForestClassifier\n",
    "from xgboost import XGBClassifier\n",
    "from sklearn.metrics import classification_report, accuracy_score, confusion_matrix\n",
    "\n",
    "# Split the dataset into training and testing sets\n",
    "X_train, X_test, y_train, y_test = train_test_split(X, y, test_size=0.2, random_state=42)\n",
    "\n",
    "# Initialize the models\n",
    "log_reg = LogisticRegression(max_iter=200)\n",
    "rf_clf = RandomForestClassifier(n_estimators=100, random_state=42)\n",
    "xgb_clf = XGBClassifier(use_label_encoder=False, eval_metric='mlogloss')\n",
    "\n",
    "# Train the Logistic Regression model\n",
    "log_reg.fit(X_train, y_train)\n",
    "y_pred_log_reg = log_reg.predict(X_test)\n",
    "\n",
    "# Train the Random Forest model\n",
    "rf_clf.fit(X_train, y_train)\n",
    "y_pred_rf = rf_clf.predict(X_test)\n",
    "\n",
    "# Train the XGBoost model\n",
    "xgb_clf.fit(X_train, y_train)\n",
    "y_pred_xgb = xgb_clf.predict(X_test)\n",
    "\n",
    "# Evaluate the models\n",
    "print(\"Logistic Regression Classification Report:\\n\", classification_report(y_test, y_pred_log_reg))\n",
    "print(\"Random Forest Classification Report:\\n\", classification_report(y_test, y_pred_rf))\n",
    "print(\"XGBoost Classification Report:\\n\", classification_report(y_test, y_pred_xgb))"
   ]
  },
  {
   "cell_type": "markdown",
   "id": "e2e8282f",
   "metadata": {},
   "source": [
    "Based on the classification reports for Logistic Regression, Random Forest, and XGBoost models, let's analyze the performance of each model and determine which one is the best for customer sentiment analysis.\n",
    "\n",
    "### Observations:\n",
    "\n",
    "1. **Logistic Regression:**\n",
    "   - **Precision, Recall, and F1-Score:** The model has high precision, recall, and F1-scores across all classes. The F1-score is particularly high for classes `1` (Neutral) and `2` (Positive), indicating a balanced performance.\n",
    "   - **Accuracy:** The overall accuracy is **96%**, which is very good.\n",
    "   - **Support:** The model performs consistently well across all sentiment labels, with better performance on the more frequent `Neutral` and `Positive` classes. The model slightly struggles with class `0` (Negative) but still has a respectable recall and F1-score.\n",
    "\n",
    "2. **Random Forest:**\n",
    "   - **Precision, Recall, and F1-Score:** The model performs well on the `Neutral` and `Positive` classes but struggles with the `Negative` class (`0`). The F1-score for class `0` is significantly lower, indicating a problem in identifying negative sentiments.\n",
    "   - **Accuracy:** The overall accuracy is **92%**, lower than Logistic Regression.\n",
    "   - **Support:** Random Forest has difficulty correctly classifying negative reviews, as indicated by its low recall (37%) for class `0`.\n",
    "\n",
    "3. **XGBoost:**\n",
    "   - **Precision, Recall, and F1-Score:** The model achieves high precision, recall, and F1-scores, especially for the `Neutral` and `Positive` classes. However, like Random Forest, it struggles with the `Negative` class but still achieves better performance than Random Forest in identifying `Negative` sentiments.\n",
    "   - **Accuracy:** The overall accuracy is **94%**, which is slightly better than Random Forest but still lower than Logistic Regression.\n",
    "   - **Support:** The XGBoost model shows balanced performance across all sentiment classes, with decent handling of class imbalance.\n",
    "\n",
    "### Conclusion:\n",
    "\n",
    "Based on the above observations:\n",
    "- **Logistic Regression** seems to be the best choice for customer sentiment analysis on this dataset. It provides the highest overall accuracy and balanced performance across all classes, particularly showing strong performance in the `Neutral` and `Positive` classes, which are more frequent in your dataset.\n",
    "- **XGBoost** is also a strong contender, with very good performance on most classes and a good balance between precision and recall. However, it slightly underperforms compared to Logistic Regression in terms of overall accuracy and handling of the `Negative` class.\n",
    "- **Random Forest** does not perform as well as the other two models due to its lower recall and F1-score for the `Negative` class, leading to a lower overall accuracy.\n",
    "\n",
    "### Recommendation:\n",
    "You should consider using **Logistic Regression** as the primary model for customer sentiment analysis, especially if you want a simpler and highly interpretable model that performs well across different classes. If you want to explore more complex models, **XGBoost** can be further tuned and optimized to potentially match or exceed Logistic Regression's performance."
   ]
  },
  {
   "cell_type": "markdown",
   "id": "075ec69c",
   "metadata": {},
   "source": [
    "<h2 align=\"left\"><font color= #e67300; font-family= 'Trebuchet MS', sans-serif;> Feature Importance and Interpretation</font></h2> "
   ]
  },
  {
   "cell_type": "code",
   "execution_count": 26,
   "id": "d507d62d",
   "metadata": {},
   "outputs": [
    {
     "name": "stdout",
     "output_type": "stream",
     "text": [
      "Top 10 Positive Influencing Features:\n",
      "             Feature  Coefficient\n",
      "9902          wrong     9.312302\n",
      "2011   disappointed     9.041506\n",
      "5788           poor     8.227541\n",
      "542             bad     7.552696\n",
      "8833       terrible     7.144131\n",
      "3617       horrible     6.945891\n",
      "2026  disappointing     6.708071\n",
      "9880          worst     6.098267\n",
      "5996        problem     5.700177\n",
      "3522           hell     5.383223\n",
      "\n",
      "Top 10 Negative Influencing Features:\n",
      "         Feature  Coefficient\n",
      "2840       free    -2.944010\n",
      "5610    perfect    -3.326663\n",
      "2291  excellent    -3.476418\n",
      "5842     pretty    -3.497232\n",
      "4593      loved    -3.545594\n",
      "8536      super    -3.965747\n",
      "493     awesome    -4.006344\n",
      "3430      happy    -4.225689\n",
      "4498       love    -5.523295\n",
      "3206      great    -7.234526\n"
     ]
    }
   ],
   "source": [
    "# Get feature names from TF-IDF Vectorizer\n",
    "feature_names = tfidf_vectorizer.get_feature_names_out()\n",
    "\n",
    "# Get the coefficients from the best Logistic Regression model\n",
    "coefficients = log_reg.coef_[0]\n",
    "\n",
    "# Create a DataFrame for the feature importance\n",
    "feature_importance = pd.DataFrame({'Feature': feature_names, 'Coefficient': coefficients})\n",
    "\n",
    "# Sort features by importance\n",
    "feature_importance = feature_importance.sort_values(by='Coefficient', ascending=False)\n",
    "\n",
    "# Display top positive and negative words influencing sentiment\n",
    "print(\"Top 10 Positive Influencing Features:\\n\", feature_importance.head(10))\n",
    "print(\"\\nTop 10 Negative Influencing Features:\\n\", feature_importance.tail(10))"
   ]
  },
  {
   "cell_type": "markdown",
   "id": "936862f0",
   "metadata": {},
   "source": [
    "<h2 align=\"left\"><font color= #e67300; font-family= 'Trebuchet MS', sans-serif;>Confusion Matrix and Detailed Evaluation:</font></h2> "
   ]
  },
  {
   "cell_type": "code",
   "execution_count": 33,
   "id": "de2f5286",
   "metadata": {},
   "outputs": [
    {
     "data": {
      "image/png": "[encoded data removed]",
      "text/plain": [
       "<Figure size 640x480 with 2 Axes>"
      ]
     },
     "metadata": {},
     "output_type": "display_data"
    },
    {
     "name": "stdout",
     "output_type": "stream",
     "text": [
      "Classification Report for Best Logistic Regression Model:\n",
      "\n",
      "              precision    recall  f1-score   support\n",
      "\n",
      "    Negative       0.86      0.68      0.76      3679\n",
      "     Neutral       0.94      0.96      0.95     10073\n",
      "    Positive       0.97      0.98      0.98     41868\n",
      "\n",
      "    accuracy                           0.96     55620\n",
      "   macro avg       0.92      0.87      0.89     55620\n",
      "weighted avg       0.96      0.96      0.96     55620\n",
      "\n"
     ]
    }
   ],
   "source": [
    "from sklearn.metrics import confusion_matrix, classification_report, ConfusionMatrixDisplay\n",
    "import matplotlib.pyplot as plt\n",
    "\n",
    "# Generate predictions using your trained logistic regression model\n",
    "y_pred_best_log_reg = log_reg.predict(X_test)  # Ensure `best_log_reg` is defined\n",
    "\n",
    "# Confusion matrix\n",
    "conf_matrix = confusion_matrix(y_test, y_pred_best_log_reg)\n",
    "\n",
    "# Plot the confusion matrix using ConfusionMatrixDisplay\n",
    "disp = ConfusionMatrixDisplay(confusion_matrix=conf_matrix, \n",
    "                               display_labels=['Negative', 'Neutral', 'Positive'])\n",
    "disp.plot(cmap=plt.cm.Blues, values_format='.2f')\n",
    "\n",
    "# Add title and show the plot\n",
    "plt.title('Confusion Matrix for Logistic Regression')\n",
    "plt.show()\n",
    "\n",
    "# Detailed classification report\n",
    "print(\"Classification Report for Best Logistic Regression Model:\\n\")\n",
    "print(classification_report(y_test, y_pred_best_log_reg, target_names=['Negative', 'Neutral', 'Positive']))\n"
   ]
  },
  {
   "cell_type": "markdown",
   "id": "474d7308",
   "metadata": {},
   "source": [
    "<h2 align=\"left\"><font color= #e67300; font-family= 'Trebuchet MS', sans-serif;> Save the Model for Future Use:</font></h2> "
   ]
  },
  {
   "cell_type": "code",
   "execution_count": 35,
   "id": "19b8004a",
   "metadata": {},
   "outputs": [
    {
     "data": {
      "text/plain": [
       "['best_logistic_regression_model.pkl']"
      ]
     },
     "execution_count": 35,
     "metadata": {},
     "output_type": "execute_result"
    }
   ],
   "source": [
    "import joblib\n",
    "\n",
    "# Save the best Logistic Regression model\n",
    "joblib.dump(y_pred_best_log_reg, 'best_logistic_regression_model.pkl')"
   ]
  },
  {
   "cell_type": "code",
   "execution_count": null,
   "id": "ef04ca20",
   "metadata": {},
   "outputs": [],
   "source": []
  }
 ],
 "metadata": {
  "kernelspec": {
   "display_name": "Python 3 (ipykernel)",
   "language": "python",
   "name": "python3"
  },
  "language_info": {
   "codemirror_mode": {
    "name": "ipython",
    "version": 3
   },
   "file_extension": ".py",
   "mimetype": "text/x-python",
   "name": "python",
   "nbconvert_exporter": "python",
   "pygments_lexer": "ipython3",
   "version": "3.11.5"
  }
 },
 "nbformat": 4,
 "nbformat_minor": 5
}
